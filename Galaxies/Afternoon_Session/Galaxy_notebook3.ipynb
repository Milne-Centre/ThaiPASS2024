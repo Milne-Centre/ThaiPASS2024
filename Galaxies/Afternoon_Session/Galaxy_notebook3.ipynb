{
 "cells": [
  {
   "cell_type": "markdown",
   "id": "cf48d97d",
   "metadata": {},
   "source": [
    "\n",
    "# Galactic Astrophysics Notebook\n",
    "\n",
    "## Part 3 Ram Pressure Stripping\n",
    "\n",
    "In this task, you will plot the restoring force for the gas in the disk of a galaxy. You can then compare this to the ram pressure experienced by the galaxy as it falls from the edge, to the centre of the galaxy cluster to see if the gas in the disk will be stripped, and at what radius. \n",
    "\n",
    "### Task 3.1\n",
    "\n"
   ]
  },
  {
   "cell_type": "markdown",
   "id": "7d771928",
   "metadata": {},
   "source": [
    "In this task, you will plot the resoring force of the gas in a galaxy disk. \n",
    "\n",
    "First install some important modules, numpy, matplotlib and math. "
   ]
  },
  {
   "cell_type": "code",
   "execution_count": 47,
   "id": "9ac3318a",
   "metadata": {},
   "outputs": [],
   "source": []
  },
  {
   "cell_type": "code",
   "execution_count": 11,
   "id": "bdcf0078",
   "metadata": {},
   "outputs": [],
   "source": []
  },
  {
   "cell_type": "markdown",
   "id": "b6f9bfe0",
   "metadata": {},
   "source": [
    "The 2D, surface density profile of the gas disk can be described as a double exponential disk:\n",
    "\n",
    "\n",
    "$ \\rho(r) = \\frac{M_{gas}}{2\\pi a^{2}_{gas}b_{gas}} e^{\\frac{r}{a_{gas}}}$\n",
    "\n",
    "$\\rho(r)$ is the gas density as a funciton of radius.\n",
    "\n",
    "$M_{gas}$ is the total mass of the gas disk. \n",
    "\n",
    "$a_{gas}$ is the scale radius of the gas disk.\n",
    "\n",
    "\n",
    "\n",
    "For this example, you can take the following values (you can play with these later to see what happens).\n",
    "\n",
    "$M_{gas} = 5x10^{9} M_{\\odot}$ \n",
    "\n",
    "$a_{gas} = 600pc$ \n",
    "\n",
    "Define these variables in your code and convert them to cgs units in a similar way to that in the supernova remnants notebook.\n"
   ]
  },
  {
   "cell_type": "code",
   "execution_count": 12,
   "id": "c08d2411",
   "metadata": {},
   "outputs": [],
   "source": []
  },
  {
   "cell_type": "markdown",
   "id": "9c7f6526",
   "metadata": {},
   "source": [
    "The resorting force is given by the equation:\n",
    "\n",
    "$F_{res} = 2\\pi G \\Sigma(r)_{gas} \\Sigma(r)_{DM}$\n",
    "\n",
    "We also need the total surface density of the disk. This should incldue all components, but here we will just add the dark matter component.\n",
    "\n",
    "This is actually quite complicated. We model the dark matter components as a 3D spherical profile, so we need to integrate this to solve for the surface density looking through the disk. I use the Burkert dark matter profile which is more suited towards dwarf galaxies. \n",
    "\n",
    "To calculate the gas surface density as a function of radius ($\\Sigma_{gas}$) and the dark matter surface density as a function of raduis ($\\Sigma_{DM}$ so that we can calculate the resroting forace as a function of radius. \n",
    "\n",
    "I have provided some of the code below"
   ]
  },
  {
   "cell_type": "code",
   "execution_count": 13,
   "id": "53cb26ed",
   "metadata": {},
   "outputs": [],
   "source": [
    "#Dark matter halo parameters                                                                                       \n",
    "DMr0 = 9500 * pc2cm                                                                                         \n",
    "rhoDM = 6.7996E-25                                                                                           \n",
    "zmax = DMr0\n",
    "zmin = -1.0 * DMr0\n",
    "\n",
    "#Define the ranges and steps\n",
    "rmax = 20000  #pc                                                                                                  \n",
    "rstep = 100\n",
    "num = int(rmax/rstep)\n",
    "\n",
    "#Set up the empty arrays\n",
    "rho_surf_DM = np.zeros(num)\n",
    "rho_surf_gas_disk1 = np.zeros(num)\n",
    "rho_surf_gas_disk2_1 = np.zeros(num)\n",
    "rho_surf_gas_disk2_2 = np.zeros(num)\n",
    "rho_surf_gas_disk2_tot = np.zeros(num)\n",
    "res_force_disk1 = np.zeros(num)\n",
    "res_force_disk2_1 = np.zeros(num)\n",
    "res_force_disk2_2 = np.zeros(num)\n",
    "res_force_disk2_tot = np.zeros(num)\n",
    "radius = np.zeros(num)"
   ]
  },
  {
   "cell_type": "code",
   "execution_count": 1,
   "id": "096a38d4",
   "metadata": {},
   "outputs": [
    {
     "ename": "SyntaxError",
     "evalue": "invalid syntax (2133790891.py, line 34)",
     "output_type": "error",
     "traceback": [
      "\u001b[0;36m  File \u001b[0;32m\"/var/folders/ct/zyyjwk8j7y73dbms6p5qj90mjcmxlw/T/ipykernel_70439/2133790891.py\"\u001b[0;36m, line \u001b[0;32m34\u001b[0m\n\u001b[0;31m    rho_surf_gas_disk1[j] =\u001b[0m\n\u001b[0m                            ^\u001b[0m\n\u001b[0;31mSyntaxError\u001b[0m\u001b[0;31m:\u001b[0m invalid syntax\n"
     ]
    }
   ],
   "source": [
    "for i in range(0, rmax, rstep):\n",
    "\n",
    "    r1 = i\n",
    "    r2 = i + rstep\n",
    "    r1_cm= r1 *pc2cm\n",
    "    r2_cm= r2*pc2cm\n",
    "    if(i==0):\n",
    "        j = 0\n",
    "    else:\n",
    "        j=j+1\n",
    "\n",
    "    r = r1 + rstep/2\n",
    "    r = r * pc2cm\n",
    "\n",
    "    #This is the portion of the code calculating the DM surface density. Is has several terms \n",
    "    #So they are calculated one at a time and combined later\n",
    "    term1 = 2.0 * rhoDM * DMr0**3\n",
    "    if(r > DMr0):\n",
    "        term2 = math.atan((DMr0*zmax)/(((r**2 - DMr0**2)**0.5)*((r**2 + zmax**2)**0.5)))\n",
    "        term3 = math.sqrt(r**2 - DMr0**2)\n",
    "    term4 = math.atanh((DMr0*zmax)/(math.sqrt(DMr0**2 + r**2)*math.sqrt(r**2 + zmax**2)))\n",
    "    term5 = math.sqrt(DMr0**2 + r**2)\n",
    "    if(r>DMr0):\n",
    "        term6 = math.atan(zmax/(math.sqrt(r**2 - DMr0**2)))\n",
    "    term7 = math.atan(zmax/(math.sqrt(DMr0**2 + r**2)))\n",
    "    term8 = 2*DMr0\n",
    "    \n",
    "    if(r > DMr0):\n",
    "        rho_surf_DM[j] = term1 * ((term2/term3) + (term4/term5) - (term6/term3) + (term7/term5)) /term8\n",
    "    else:\n",
    "        rho_surf_DM[j] = term1 * ((term4/term5) +  (term7/term5)) / term8\n",
    "\n",
    "    #Now insert some code here to calculate the disk surface density. \n",
    "    rho_surf_gas_disk1[j] = \n",
    "    \n",
    "    #Now insert some code here to calculate the restoring force using the equation above:\n",
    "    #Ensure you convert the units of radius from cm back to pc first. \n",
    "    radius[j] = \n",
    "\n",
    "    res_force_disk1[j] = \n",
    "\n"
   ]
  },
  {
   "cell_type": "markdown",
   "id": "d15a4b36",
   "metadata": {},
   "source": [
    "Now we can plot the restoring force as a funciton of radius. \n",
    "\n",
    "Apply a log scale to both axes and ensure to label the axes."
   ]
  },
  {
   "cell_type": "code",
   "execution_count": null,
   "id": "75e74209",
   "metadata": {},
   "outputs": [],
   "source": []
  },
  {
   "cell_type": "markdown",
   "id": "1855d055",
   "metadata": {},
   "source": [
    "### Task 3.2\n",
    "\n",
    "Now lets plot the ram pressure that will act on the galaxy as it moves from the edge of the cluster to the centre of the cluster so we can compare it with the restoring force and see if the galaxy gas will be stripped!\n",
    "\n",
    "The equation for ram pressure is:\n",
    "\n",
    "$P_{ram}=\\rho v^{2}$\n",
    "\n",
    "As the density of the ICM and the velocity of the galaxy changes as the galaxy moves through the cluster the ram pressure will change. \n",
    "The ram pressure is a function of $r_{cluster}$ (this is the distance from the centre of the cluster)\n",
    "\n",
    "$P_{ram}(r)=\\rho(r) v(r)^{2}$\n",
    "\n",
    "We could calculate this using models for the density profile of the ICM and for the gravitational potential of the galaxy cluster (to calculate the velocity). Here, some files have been provided for you.\n",
    "\n",
    "\n",
    "In the folder on github, there are two files which provide the velocity of the galaxy as it moves through the cluster and the density of the ICM at the position of the galaxy. Both of these values are shown over time, from 0 to 1000Myr. \n",
    "\n",
    "cluster_vel.dat contains the velocity of the galaxy in km/s (in the second column) and cluster_dens.dat contains the density of the ICM (in $gcm^{-3}) in the second column. Both files have the time (in Myr) in the first column. "
   ]
  },
  {
   "cell_type": "markdown",
   "id": "3c574f65",
   "metadata": {},
   "source": [
    "Read in the two data files and calculate the ram pressure as a function of time"
   ]
  },
  {
   "cell_type": "code",
   "execution_count": null,
   "id": "dcb3da4f",
   "metadata": {},
   "outputs": [],
   "source": []
  },
  {
   "cell_type": "code",
   "execution_count": null,
   "id": "966b12f0",
   "metadata": {},
   "outputs": [],
   "source": []
  },
  {
   "cell_type": "markdown",
   "id": "8c0b83c5",
   "metadata": {},
   "source": [
    "Now we have the ram pressure as a funciton of time. The units of restoring force and ram pressure are equivalent, so we can plot them on the same graph to directly compare. Keep the bottom x-axis as the radius of the galaxy as on the last plot, and now plot the time on the top x-axis so you can see both lines on the same plot. "
   ]
  },
  {
   "cell_type": "code",
   "execution_count": null,
   "id": "bcc3d9bf",
   "metadata": {},
   "outputs": [],
   "source": []
  },
  {
   "cell_type": "markdown",
   "id": "4bc9b8eb",
   "metadata": {},
   "source": [
    "The ram pressure must be greater than the restoring force to strip gas from the galaxy disk. \n",
    "\n",
    "What does this plot tell us?\n",
    "\n",
    "Will gas be stripped from the galaxy?\n",
    "\n",
    "If so, at what radius?"
   ]
  },
  {
   "cell_type": "code",
   "execution_count": null,
   "id": "06eaf761",
   "metadata": {},
   "outputs": [],
   "source": []
  }
 ],
 "metadata": {
  "kernelspec": {
   "display_name": "Python 3 (ipykernel)",
   "language": "python",
   "name": "python3"
  },
  "language_info": {
   "codemirror_mode": {
    "name": "ipython",
    "version": 3
   },
   "file_extension": ".py",
   "mimetype": "text/x-python",
   "name": "python",
   "nbconvert_exporter": "python",
   "pygments_lexer": "ipython3",
   "version": "3.9.5"
  }
 },
 "nbformat": 4,
 "nbformat_minor": 5
}
