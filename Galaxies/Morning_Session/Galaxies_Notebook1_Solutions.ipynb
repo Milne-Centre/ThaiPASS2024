{
 "cells": [
  {
   "cell_type": "markdown",
   "metadata": {},
   "source": [
    "\n",
    "# Galactic Astrophysics Notebook\n",
    "\n",
    "## Part 1 Supernova Remnants\n",
    "\n",
    "The lecture has given an introduction into the structure of supernova remnants and the three different phases they go through (which change as the time since the supernova explosion). In this python task we will esimate the increase in radius and velocity of the expanding shell in the Sedov-taylor phase of the supernova remnant. \n",
    "\n",
    "### Task 1.1\n",
    "\n",
    "In this task you will plot the analytical solution for the Sedov-Taylor phase of the evolution of a supernova remnant. "
   ]
  },
  {
   "cell_type": "markdown",
   "metadata": {},
   "source": [
    "First load the modules you will need (numpy, math and matplotlib)."
   ]
  },
  {
   "cell_type": "code",
   "execution_count": 1,
   "metadata": {},
   "outputs": [],
   "source": [
    "import numpy as np\n",
    "import matplotlib.pyplot as plt\n",
    "import math"
   ]
  },
  {
   "cell_type": "markdown",
   "metadata": {},
   "source": [
    "To calculate these quantities correctly we need to make sure all values are using the same system of units. Here we are using cgs (centimetres, grams, seconds).\n",
    "To input and output the values it makes more sense to have them in units more suited to astronomy, to make them easier to read.\n",
    "\n",
    "Define some constants that can be multiplied by the output values so we can print them out in useful units.\n",
    "\n",
    "For example, time will be calculated in seconds but it is more useful for us to output it in years, or Megayears (millions of years, 1 million = 1,000,000). \n",
    "So we can define:\n",
    "\n",
    "$sectoyear = 60 \\times 60 \\times 24 \\times 365.25$\n",
    "\n",
    "Then multiply this by the output to ensure the time we are reading is printed in years. \n",
    "\n",
    "Lengths will be calculated in $cm$ - but we want them in $pc$.\n",
    "\n",
    "Velocities will be calculated in $cm/s$ - but we want them in $km/s$.\n",
    "\n",
    "Masses will be calculated in grams - but we want them in solar masses. "
   ]
  },
  {
   "cell_type": "code",
   "execution_count": 2,
   "metadata": {},
   "outputs": [],
   "source": [
    "#Convert seconds to years\n",
    "sectoyear = 60 * 60 * 24 *365.25\n",
    "#Convert centimetres to parsec\n",
    "cmtopc = 3.086E18\n",
    "#Convert centimetres to velocity\n",
    "cmtokm = 1.0E5\n",
    "#Convert solar masses to grams\n",
    "sol2gram = 1.989E33"
   ]
  },
  {
   "cell_type": "markdown",
   "metadata": {},
   "source": [
    "Now we need to define some constant values such as the explosion energy and ambient density of the surrounding *ISM (interstellar medium)*. \n",
    "\n",
    "Ambient density = 1.E-26   (units = $g /{cm}^3$)\n",
    "\n",
    "Explosion energy = 1.E51 (units = $erg$)\n",
    "\n",
    "(These are both in cgs units so they don't need to be converted. 1 erg is $gcm^{2}/s^{2}$)\n",
    "\n",
    "We should also define the mass of the ejected stellar material. For a type II supnernova this would be above 8M$_{\\odot}$, for a type Ia supernova it would be much lower as the white dwarf has already blown all of the external stellar material away. We could estimate it to be below 1M$_{\\odot}$ in this case. \n",
    "Remember the mass will need to be converted into cgs!"
   ]
  },
  {
   "cell_type": "code",
   "execution_count": 24,
   "metadata": {},
   "outputs": [],
   "source": [
    "#Ambient density (ISM) in cgs                                                                                                                                                                                                  \n",
    "rho_ambient = 1.E-26\n",
    "#Explosion energy in cgs\n",
    "E_SN = 1.E51\n",
    "# Ejected mass                                                                                                                                                                                 \n",
    "M_ejecta = 0.25 * sol2gram"
   ]
  },
  {
   "cell_type": "markdown",
   "metadata": {},
   "source": [
    "We are going to be calculating the radius and velocity of the expanding shell during the Sedov-Taylor (ST) phase of the evolution of the SNR. \n",
    "To get the initial values for the velocity and radius of the swept up shell for the ST phase, we can estimate the velocity at the end of the free expansion phase.\n",
    "\n",
    "Work out the initial velocity of the ejected stellar material using the equation below, assuming the explosion energy is converted to kinetic energy. \n",
    "\n",
    "### $E_{SN}$ = $\\frac{1}{2} M_{e}v_{e}^2$\n"
   ]
  },
  {
   "cell_type": "code",
   "execution_count": 25,
   "metadata": {},
   "outputs": [
    {
     "name": "stdout",
     "output_type": "stream",
     "text": [
      "Initial velocity of the ejected material 20055.227919872894 km/s\n"
     ]
    }
   ],
   "source": [
    "v_ejecta = (2. * E_SN /\tM_ejecta)**(1./2.)\n",
    "print(\"Initial velocity of the ejected material\", v_ejecta/cmtokm, \"km/s\")"
   ]
  },
  {
   "cell_type": "markdown",
   "metadata": {},
   "source": [
    "### Task 1.2\n",
    "\n",
    "Next we can work out the shell radius (in parsec) at the end of the free expansion phase, then the time it has taken (in years) to reach that radius. Use the equations below and assume the velocity in the free expansion phase is constant.\n",
    "\n",
    "$\\rho_{0}$ is the ambient density of the surrounding interstellar medium.\n",
    "\n",
    "### $R_{SW} = \\left(\\frac{3M_{e}}{4\\pi\\rho_{0}}\\right)^{1/3}$\n",
    "\n",
    "### $t_{SW} = \\frac{R_{SW}}{v_{e}}$"
   ]
  },
  {
   "cell_type": "code",
   "execution_count": 26,
   "metadata": {},
   "outputs": [
    {
     "name": "stdout",
     "output_type": "stream",
     "text": [
      "Radius at the end of the free expansion phase 7.392071162091476 pc\n",
      "Time at the end of the free expansion phase 360.43793410547414 years\n"
     ]
    }
   ],
   "source": [
    "R_SW = (3. * M_ejecta /(4. * np.pi * rho_ambient))**(1./3.)\n",
    "t_SW = R_SW / v_ejecta\n",
    "print(\"Radius at the end of the free expansion phase\", R_SW/cmtopc, \"pc\")\n",
    "print(\"Time at the end of the free expansion phase\", t_SW/sectoyear, \"years\")"
   ]
  },
  {
   "cell_type": "markdown",
   "metadata": {},
   "source": [
    "### Task 1.3\n",
    "\n",
    "Now work out the radius and velocity of the expanding shell of gas as a function of time during the Sedov-Taylor phase (where the time starts at the end of the free expansion phase). \n",
    "\n",
    "### $R_{Sed}(t) = \\left(\\frac{25E_{SN}}{4\\pi\\rho_{0}}\\right)^{1/5}t^{2/5}$\n",
    "\n",
    "### $V_{Sed}(t) = \\frac{2}{5}\\left(\\frac{25E_{SN}}{4\\pi\\rho_{0}}\\right)^{1/5}t^{-3/5}$\n",
    "\n",
    "Remember to use cgs units for the values in your calculations, then convert back to more sensible values (i.e. parsec,  years and km/s) afterwards. "
   ]
  },
  {
   "cell_type": "code",
   "execution_count": 35,
   "metadata": {},
   "outputs": [
    {
     "name": "stdout",
     "output_type": "stream",
     "text": [
      "Values after expansion in the Sedov-Taylor phase after 20 000 years:\n",
      "Radius =  49.013623644185046 pc\n",
      "Velocity =  959.0824930930435 km/s\n"
     ]
    }
   ],
   "source": [
    "t_start = 360\n",
    "t_end = 20000 #years                                                                                                                                                                                                           \n",
    "blah=(10000 - t_start+1)\n",
    "\n",
    "#Define arrays\n",
    "R_sed =[]\n",
    "V_sed =[]\n",
    "t_sed =[]\n",
    "#R_sed = np.zeros(blah)\n",
    "#V_sed = np.zeros(blah)\n",
    "#Time = np.zeros(blah)\n",
    "\n",
    "#Loop over time                                                                                                                                                                                                                \n",
    "for i in range(t_start, t_end, 10):\n",
    "    Time = i * sectoyear\n",
    "    t_sed.append(Time/sectoyear)\n",
    "    \n",
    "    Radius = ((25.  * E_SN)/(4. * np.pi * rho_ambient))**(1./5.) * (Time)**(2./5.)\n",
    "    R_sed.append(Radius/cmtopc)\n",
    "    \n",
    "    Velocity = (2.0/5.0)*((25.0 * E_SN)/(4. * np.pi  * rho_ambient))**(1./5.) * Time**(-3./5.)\n",
    "    V_sed.append(Velocity/cmtokm)\n",
    "\n",
    "print(\"Values after expansion in the Sedov-Taylor phase after 20 000 years:\")\n",
    "print(\"Radius = \", R_sed[-1], \"pc\")\n",
    "print(\"Velocity = \", V_sed[-1], \"km/s\")\n",
    "\n"
   ]
  },
  {
   "cell_type": "markdown",
   "metadata": {},
   "source": [
    "Use the subplot function within matplotlib to create two plots showing the evolution of the shell radius with time and the shell velocity with time. \n",
    "\n",
    "Remember to add titles and axis labels. "
   ]
  },
  {
   "cell_type": "code",
   "execution_count": 36,
   "metadata": {},
   "outputs": [
    {
     "data": {
      "image/png": "[encoded data removed]",
      "text/plain": [
       "<Figure size 432x288 with 2 Axes>"
      ]
     },
     "metadata": {
      "needs_background": "light"
     },
     "output_type": "display_data"
    }
   ],
   "source": [
    "plt.subplot(2,2,1)\n",
    "plt.plot(t_sed, R_sed)\n",
    "plt.title('Radius')\n",
    "plt.ylabel('Radius (pc)')\n",
    "plt.xlabel('Time (years)')\n",
    "\n",
    "plt.subplot(2,2,2)\n",
    "plt.plot(t_sed, V_sed)\n",
    "plt.title('Velocity')\n",
    "plt.ylabel('Velocity (km/s)')\n",
    "plt.xlabel('Time (years)')\n",
    "\n",
    "plt.tight_layout()\n",
    "plt.show()"
   ]
  },
  {
   "cell_type": "markdown",
   "metadata": {},
   "source": [
    "## Part 2: Rotation Curves \n",
    "\n",
    "You have just been introduced to the idea of rotation curves of galaxies and the questions that arise from these measurements. This task will allow you to compare real observational data to theoretical models of what galaxies are made of. \n",
    "\n",
    "Tasks 2.1 and 2.2 were given in the pre-ThaiPASS homework. If you have completed the homework already, you can skip to task 2.3.\n",
    "\n",
    "Stars move in orbits around the centre of mass of a galaxy due to the force of gravity. The magnitude of the orbital velocity depends on the enclosed mass (the mass inside the orbit) and the distance of the star from the centre of the galaxy (the radius). In this exercise we will explore the orbital velocity of stars in a galaxy and construct a rotation curve. \n",
    "There are two data files that you will need for these tasks, you can find them on the Github Page: https://github.com/Milne-Centre/ThaiPASS2024/\n",
    "\n",
    "\n"
   ]
  },
  {
   "cell_type": "markdown",
   "metadata": {},
   "source": [
    "### Task 2.1\n",
    "\n",
    "The file rc100224.dat contains the orbital velocities of stars in a galaxy and their radial distance from the centre of the galaxy. The first column of the file contains the radius (kpc: kiloparsec) and the second column contains observed orbital velocity (km/s: in kilometres per second). Read in the data from the file and plot the radial distance on the x-axis and the orbital velocity on the y-axis, this is the 'rotation curve' of the galaxy. \n",
    "\n",
    "You should use the data file *rc100224.dat*\n",
    "\n",
    "\n"
   ]
  },
  {
   "cell_type": "code",
   "execution_count": 11,
   "metadata": {},
   "outputs": [],
   "source": [
    "rcdata = np.loadtxt('rc100224.dat',skiprows=1)"
   ]
  },
  {
   "cell_type": "code",
   "execution_count": 12,
   "metadata": {},
   "outputs": [],
   "source": [
    "rcdata = np.array(rcdata)\n",
    "radius = rcdata[:,0]\n",
    "orbvel = rcdata[:,1]"
   ]
  },
  {
   "cell_type": "code",
   "execution_count": 13,
   "metadata": {},
   "outputs": [
    {
     "data": {
      "image/png": "[encoded data removed]",
      "text/plain": [
       "<Figure size 432x288 with 1 Axes>"
      ]
     },
     "metadata": {
      "needs_background": "light"
     },
     "output_type": "display_data"
    }
   ],
   "source": [
    "plt.plot(radius,orbvel)\n",
    "#plt.xscale('log')\n",
    "plt.ylim(0,300)\n",
    "plt.xlim(0,50)\n",
    "plt.ylabel('orbital velocity, km/s')\n",
    "plt.xlabel('radius, kpc')\n",
    "plt.show()"
   ]
  },
  {
   "cell_type": "markdown",
   "metadata": {},
   "source": [
    "### Task 2.2\n",
    "\n",
    "For this task you will use a real mass distribution data from a model of the Andromeda galaxy (M31) to calculate the orbital velocities. The mass distribution is of only baryonic matter (stars and gas). You will use the mass distribution to calculate and plot the rotation curve of the galaxy.\n",
    "\n",
    "From the data file, remember that you need to use the cumulative/enclosed mass.\n",
    "\n",
    "You can then use Kepler's Laws of Planetary Motion (see day one lecture slides) to calculate the orbital velocities of stars as a function of radial distance and plot this as a line graph.\n",
    "\n",
    "You should then compare your graph to the one you made in task one and comment on any differences you find.\n",
    "\n",
    "You should use the data file M31_mass2.dat\n",
    "The first column of the file contains the radius (pc) and the second column contains the mass at that radius.\n",
    "\n",
    "\n",
    "\n",
    "Now you will use real mass distribution data from a model of the Andromeda galaxy (M31) to calculate the orbital velocities of stars. The mass distribution is of only baryonic matter (stars and gas). You will use the mass distribution to calculate and plot the rotation curve of the galaxy.\n",
    "\n",
    "You should use the data file M31_mass2.dat\n",
    "\n",
    "The first column of the file contains the radius (pc: parsec) and the second column contains the total, enclosed, mass at that radius (and within it).Note that the units of radius are different here, there are 1000pc in 1kpc, ensure to use units of kpc in equation 1. \n",
    "\n",
    "You can then use the equation below, derived from Kepler's Laws of Planetary Motion to calculate the orbital velocities of stars as a function of radial distance and plot this as a line graph.\n",
    "   \n",
    "$ v = \\sqrt{\\frac{GM(r)}{r}} $ (Equation 1)\n",
    "\n",
    "\n",
    "You can use the following value for the gravitational constant (if r in used in kpc, M is use din solar masses, v will be output in km/s):\n",
    "\n",
    "$G=4.30091\\times 10^{-6} \\frac{pc (km/s)^{2}}{M_{\\odot}^{-1}}$. \n",
    "\n",
    " From the data file, remember that you need to use the cumulative/enclosed mass, $M(r)$, so add up the mass contained inside the sphere as the radius increases (hint: use a loop to do this). The mass for a star at a given radius should include the total mass within that radius.\n",
    "    \n",
    "You should then compare your graph to the one you made in the first task and comment on any differences you find.\n",
    "    \n"
   ]
  },
  {
   "cell_type": "code",
   "execution_count": 20,
   "metadata": {},
   "outputs": [],
   "source": [
    "def orbVel(r,mass):\n",
    "    G=4.30091e-6\n",
    "    vel = [0]\n",
    "    for i in range(len(r)-1):\n",
    "        tempv = np.sqrt(G*mass[i+1]/r[i+1])\n",
    "        vel.append(tempv)\n",
    "    return vel"
   ]
  },
  {
   "cell_type": "code",
   "execution_count": 21,
   "metadata": {},
   "outputs": [],
   "source": [
    "M31data = np.loadtxt('M31_mass2.dat',skiprows=1)\n",
    "M31data = np.array(M31data)\n",
    "M31radius = M31data[:,0]/1000\n",
    "M31mass = M31data[:,1]\n",
    "\n",
    "M31vel = orbVel(M31radius, M31mass)"
   ]
  },
  {
   "cell_type": "code",
   "execution_count": 23,
   "metadata": {
    "scrolled": true
   },
   "outputs": [
    {
     "data": {
      "text/plain": [
       "<matplotlib.legend.Legend at 0x110885910>"
      ]
     },
     "execution_count": 23,
     "metadata": {},
     "output_type": "execute_result"
    },
    {
     "data": {
      "image/png": "[encoded data removed]",
      "text/plain": [
       "<Figure size 432x288 with 1 Axes>"
      ]
     },
     "metadata": {
      "needs_background": "light"
     },
     "output_type": "display_data"
    }
   ],
   "source": [
    "plt.plot(radius,orbvel, label=\"observed velocity\")\n",
    "plt.plot(M31radius,M31vel, label=\"M31 baryonic mass\")\n",
    "\n",
    "plt.ylim(0,300)\n",
    "plt.xlim(0,50)\n",
    "plt.ylabel('orbital velocity, km/s')\n",
    "plt.xlabel('radius, kpc')\n",
    "plt.legend()"
   ]
  },
  {
   "cell_type": "markdown",
   "metadata": {},
   "source": [
    "### Task 2.3\n",
    "We will now modify our model from task two and see how this affects the rotation curve. To modify our model we will add a *non-baryonic component* to the mass distribution in the form of a dark matter mass profile.\n",
    "\n",
    "For this task, you will first define a *density profile*. You will have to calculate the mass distribution in part b from this density profile. This is done by first making a density profile using the radii values in the previous data files and then using a forward Euler solver function to get the mass function.\n",
    "\n",
    "Then, add the dark matter mass to the mass distribution in task 2.2. After adding the mass, you should plot the rotation curve of the new mass distribution.\n",
    "\n",
    "The density profile follows the NFW-profile (see lecture slides for more information).\n",
    "\n",
    "For the constants, use: $\\rho_c = 2.1 \\times 10^3, r_c = 16.5 \\times 10^3$\n",
    "For initial conditions, use $\\rho(r)\\rvert_{r = 0} = \\rho_c$\n",
    "\n",
    "Hint: Use a loop in the function to loop of the values for the radius given in the last task, you will calculate the density and mass values at these values of radius. "
   ]
  },
  {
   "cell_type": "code",
   "execution_count": 24,
   "metadata": {},
   "outputs": [],
   "source": [
    "def rhoCal(r):\n",
    "#     r = np.array(r)\n",
    "    rhozero = 2.1e3\n",
    "    scaleradius = 16.5e3\n",
    "#     rhozero = 2.0e+7\n",
    "#     scaleradius = 14.5e2\n",
    "    rhoOut = [rhozero]\n",
    "    for i in range(len(r)-1):\n",
    "        temprho = rhozero / ((r[i+1]/scaleradius)*(1 + r[i+1]/scaleradius)**2)\n",
    "        rhoOut.append(temprho)\n",
    "    return rhoOut"
   ]
  },
  {
   "cell_type": "markdown",
   "metadata": {},
   "source": [
    "### Task 2.4\n",
    "\n",
    "This part of the task is to calculate the dark matter mass profile and add it to mass distribution in task two. After adding the mass, you should plot the rotation curve of the new mass distribution.\n",
    "\n",
    "Recall that: \n",
    "\n",
    "$M(r)= \\int 4  \\pi r^2 \\rho(r) dr$,  from which it follows that:\n",
    "\n",
    "$M'(r) = \\dfrac{dM(r)}{dr} = 4 \\pi r^2 \\rho(r)$,    which means $M_{n+1} = M_n + h \\left( 4 \\pi r_n^2 \\rho_n  \\right)$\n",
    "\n",
    "And remember that you need to use the enclosed mass -- **not** the mass at point $r$.\n",
    "\n",
    "For initial conditions, use $M(0) = 0$. Use $h = r_{n+1} - r_n$ and $r$ to be the M31 radius data."
   ]
  },
  {
   "cell_type": "code",
   "execution_count": 26,
   "metadata": {},
   "outputs": [
    {
     "name": "stdout",
     "output_type": "stream",
     "text": [
      "34649995800.000374\n",
      "779941046075.6361\n"
     ]
    }
   ],
   "source": [
    "def DM(r, rho):\n",
    "    dmmass = [0]\n",
    "    for i in range(len(r)-1):\n",
    "        h = (r[i+1]-r[i])\n",
    "        mTemp = 4*np.pi*r[i]**2*rho[i]*h\n",
    "        mTemp2 = dmmass[i] + mTemp\n",
    "        dmmass.append(mTemp2)\n",
    "    return dmmass\n",
    "\n",
    "dmRho = rhoCal(M31radius)\n",
    "# testR = np.arange(0., 60*1e3,1.)\n",
    "# dmRho = rho(testR)\n",
    "print(max(dmRho))\n",
    "dmMass = DM(M31radius, dmRho)\n",
    "print(max(dmMass))"
   ]
  },
  {
   "cell_type": "code",
   "execution_count": 27,
   "metadata": {},
   "outputs": [
    {
     "name": "stdout",
     "output_type": "stream",
     "text": [
      "979797285156.9661\n"
     ]
    },
    {
     "data": {
      "image/png": "[encoded data removed]",
      "text/plain": [
       "<Figure size 432x288 with 1 Axes>"
      ]
     },
     "metadata": {
      "needs_background": "light"
     },
     "output_type": "display_data"
    }
   ],
   "source": [
    "dmRho = rhoCal(M31radius)\n",
    "dmMass = DM(M31radius, dmRho)\n",
    "DMandBaryonic = np.array(dmMass) + np.array(M31mass)\n",
    "print(max(DMandBaryonic))\n",
    "\n",
    "DMvel = orbVel(M31radius,DMandBaryonic)\n",
    "\n",
    "plt.plot(radius,orbvel, label=\"Observed Velocity\")\n",
    "plt.plot(M31radius,M31vel, label=\"M31 baryonic mass\")\n",
    "plt.plot(M31radius,DMvel, label=\"DM + baryonic mass\")\n",
    "# plt.plot(M31radius,M31vel)\n",
    "plt.ylim(0,300)\n",
    "plt.xlim(0,50)\n",
    "plt.ylabel('orbital velocity, km/s')\n",
    "plt.xlabel('radius, kpc')\n",
    "plt.legend()\n",
    "plt.savefig('obs_bary_DM.png')"
   ]
  },
  {
   "cell_type": "markdown",
   "metadata": {},
   "source": [
    "### Additional information\n",
    "\n",
    "If you want to do more plotting, more data of rotation curves is available at at http://www.ioa.s.u-tokyo.ac.jp/~sofue/smd2018/Atlas_data_S-galaxies/\n",
    "\n",
    "You can press a number and find a list of data files. <code>rc[number].dat</code> are the rotation curves\n",
    "\n",
    "'100000' is the Milky Way and '100224' is the Andromeda galaxy."
   ]
  },
  {
   "cell_type": "markdown",
   "metadata": {},
   "source": [
    "## Part 3: Rotation curves - advanced\n",
    "\n",
    "### Task 3.1\n",
    "\n",
    "This task is to construct the baryonic mass distribution yourself. This is based of the paper here: https://arxiv.org/pdf/1208.5712.pdf\n",
    "\n",
    "Note that this is not following the paper strictly as there are some simplifications made\n"
   ]
  },
  {
   "cell_type": "markdown",
   "metadata": {},
   "source": [
    "### Task 3.1\n",
    "\n",
    "For simplification, we only assume a bulge, disc, and stellar halo. \n",
    "Using the following equation, calculate the density profiles for each component\n",
    "$\\rho(r) = \\rho_c \\text{ exp}\\left(-d_N \\left[\\left(\\dfrac{r}{a_c}\\right)^{N-1}-1\\right]\\right)$,\n",
    "where <br/>\n",
    "name $=[\\text{bulge, disc, stellar component}]$, <br/>\n",
    "$\\rho_c = [9.201e-1, 1.307e-2, 4.459e-4]$, <br/>\n",
    "$a_c = [1.055, 9.0, 11.22]$, <br/>\n",
    "$d_N[7.769, 3.273, 8.669]$, <br/>\n",
    "$N=[2.7, 1.2, 3.0]$\n",
    "\n",
    "For a detailed explanation of each parameter, look at the paper (equation 2)"
   ]
  },
  {
   "cell_type": "code",
   "execution_count": 28,
   "metadata": {},
   "outputs": [],
   "source": [
    "def density(r, a_c, N, rho_c, d_N):\n",
    "    rho = []\n",
    "    a = r\n",
    "    for i in a:\n",
    "        tempRho = rho_c* math.exp(-d_N * ((i/(a_c*1e3))**(N**-1)-1))\n",
    "        rho.append(tempRho)\n",
    "    return rho\n",
    "\n",
    "a = np.arange(0., 60.0e3, 1.)\n",
    "a_c = [1.055, 9.0, 11.22]\n",
    "N = [2.7, 1.2, 3.0]\n",
    "rho_c = [9.201e-1, 1.307e-2, 4.459e-4]\n",
    "d_N = [7.769, 3.273, 8.669]\n",
    "\n",
    "\n",
    "rho = []\n",
    "for i in range(len(a_c)):\n",
    "    trho = density(a, a_c[i], N[i], rho_c[i], d_N[i])\n",
    "    rho.append(trho)"
   ]
  },
  {
   "cell_type": "markdown",
   "metadata": {},
   "source": [
    "### Task 3.2\n",
    "\n",
    "In this task, you should calculate the mass in each interval. M(0) = 0\n",
    "\n",
    "The approach is similar to what you did for the dark matter profile in the other notebook"
   ]
  },
  {
   "cell_type": "code",
   "execution_count": 29,
   "metadata": {},
   "outputs": [],
   "source": [
    "def mass(r, rho):\n",
    "    massOut = [0]\n",
    "    for i in range(len(rho)-1):\n",
    "        tempMass = 4*math.pi*r[i+1]**2*rho[i]*(r[i+1]-r[i])#*1e10\n",
    "        massOut.append(massOut[i]+tempMass)\n",
    "    return massOut\n",
    "\n",
    "masses = []\n",
    "for i in rho:\n",
    "    masses.append(mass(a, i))"
   ]
  },
  {
   "cell_type": "markdown",
   "metadata": {},
   "source": [
    "### Task 3.3\n",
    "\n",
    "Now calculate the orbital velocities for each component and plot it. This way, you can see how the different components contribute to the orbital velocities. \n",
    "\n",
    "Plot the complete rotation curve, which means you have to add the mass from each component in each element."
   ]
  },
  {
   "cell_type": "code",
   "execution_count": 30,
   "metadata": {},
   "outputs": [
    {
     "name": "stderr",
     "output_type": "stream",
     "text": [
      "/var/folders/ct/zyyjwk8j7y73dbms6p5qj90mjcmxlw/T/ipykernel_13435/287663762.py:5: RuntimeWarning: invalid value encountered in scalar divide\n",
      "  tempv = np.sqrt(G * mass[i]/r[i])\n"
     ]
    }
   ],
   "source": [
    "def orbVel(r, mass):\n",
    "    G = 4.3e-3\n",
    "    vel = [0]\n",
    "    for i in range(len(r)-1):\n",
    "        tempv = np.sqrt(G * mass[i]/r[i])\n",
    "        vel.append(tempv)\n",
    "    return vel\n",
    "\n",
    "orbVels = []\n",
    "for i in masses:\n",
    "    orbVels.append(orbVel(a, i))"
   ]
  },
  {
   "cell_type": "markdown",
   "metadata": {},
   "source": [
    "### Task 3.4\n",
    "Time for you to experiment! Ideas for experimentation:\n",
    "\n",
    "* Try changing the parameters ($\\rho_c, a_c, N, d_N$) and see how it changes the distributions.\n",
    "* Try adding more mass components and see how you can change the orbital velocity contributions.\n",
    "* Try different distribution functions, e.g NFW"
   ]
  },
  {
   "cell_type": "code",
   "execution_count": 31,
   "metadata": {},
   "outputs": [
    {
     "data": {
      "text/plain": [
       "(0.0, 50000.0, 0.0, 262.92805953953297)"
      ]
     },
     "execution_count": 31,
     "metadata": {},
     "output_type": "execute_result"
    },
    {
     "data": {
      "image/png": "[encoded data removed]",
      "text/plain": [
       "<Figure size 432x288 with 1 Axes>"
      ]
     },
     "metadata": {
      "needs_background": "light"
     },
     "output_type": "display_data"
    },
    {
     "data": {
      "image/png": "[encoded data removed]",
      "text/plain": [
       "<Figure size 432x288 with 1 Axes>"
      ]
     },
     "metadata": {
      "needs_background": "light"
     },
     "output_type": "display_data"
    }
   ],
   "source": [
    "plt.figure()\n",
    "for i in range(len(a_c)):\n",
    "    plt.plot(a, masses[i])\n",
    "plt.axis(xmin=0, xmax = 50e3)\n",
    "plt.figure()\n",
    "for i in range(len(a_c)):\n",
    "    plt.plot(a, orbVels[i])\n",
    "plt.axis(xmin=0, xmax = 50e3, ymin=0, ymax=max(orbVels[0]))"
   ]
  },
  {
   "cell_type": "markdown",
   "metadata": {},
   "source": [
    "### Task 4\n",
    "\n",
    "Time for you to experiment! Ideas for experimentation:\n",
    "\n",
    "* Try changing the parameters ($\\rho_c, a_c, N, d_N$) and see how it changes the distributions.\n",
    "* Try adding more mass components and see how you can change the orbital velocity contributions.\n",
    "* Try different distribution functions, e.g NFW"
   ]
  },
  {
   "cell_type": "code",
   "execution_count": null,
   "metadata": {},
   "outputs": [],
   "source": []
  }
 ],
 "metadata": {
  "kernelspec": {
   "display_name": "Python 3 (ipykernel)",
   "language": "python",
   "name": "python3"
  },
  "language_info": {
   "codemirror_mode": {
    "name": "ipython",
    "version": 3
   },
   "file_extension": ".py",
   "mimetype": "text/x-python",
   "name": "python",
   "nbconvert_exporter": "python",
   "pygments_lexer": "ipython3",
   "version": "3.9.5"
  }
 },
 "nbformat": 4,
 "nbformat_minor": 2
}
